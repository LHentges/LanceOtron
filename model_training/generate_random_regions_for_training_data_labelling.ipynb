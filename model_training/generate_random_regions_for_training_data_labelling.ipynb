{
 "cells": [
  {
   "cell_type": "markdown",
   "metadata": {},
   "source": [
    "Quick script for sampling from total dataset tsv files"
   ]
  },
  {
   "cell_type": "code",
   "execution_count": 1,
   "metadata": {},
   "outputs": [],
   "source": [
    "import random"
   ]
  },
  {
   "cell_type": "code",
   "execution_count": 2,
   "metadata": {},
   "outputs": [],
   "source": [
    "experiment_type_list = ['ATAC', 'DNase', 'H3K27ac', 'H3K4me3', 'TF']\n",
    "dataset_sample_size = 10"
   ]
  },
  {
   "cell_type": "code",
   "execution_count": 3,
   "metadata": {},
   "outputs": [],
   "source": [
    "# For files generated from encode_generate_training_dataset_lists script \n",
    "# Assumes paired-end samples + single-end samples >= dataset_sample_size\n",
    "# Prioritizes paired-end datasets over single-ended\n",
    "# Files loaded have header; files written have no header\n",
    "\n",
    "for experiment_type in experiment_type_list:\n",
    "    out_list_pe = []\n",
    "    out_list_se = []\n",
    "    pe_count = 0\n",
    "    se_count = 0\n",
    "    with open('{}_pairedend_encode_datasets.tsv'.format(experiment_type)) as f:\n",
    "        next(f)\n",
    "        for line in f:\n",
    "            pe_count+=1\n",
    "    with open('{}_singleend_encode_datasets.tsv'.format(experiment_type)) as f:\n",
    "        next(f)\n",
    "        for line in f:\n",
    "            se_count+=1\n",
    "    if pe_count>=dataset_sample_size:\n",
    "        random_line_index_list = random.sample(range(pe_count), dataset_sample_size)\n",
    "        with open('{}_pairedend_encode_datasets.tsv'.format(experiment_type)) as f:\n",
    "            next(f)\n",
    "            for i, line in enumerate(f):\n",
    "                if i in random_line_index_list:\n",
    "                    out_list_pe.append(line)\n",
    "    else:\n",
    "        with open('{}_pairedend_encode_datasets.tsv'.format(experiment_type)) as f:\n",
    "            next(f)\n",
    "            for i, line in enumerate(f):\n",
    "                out_list_pe.append(line)\n",
    "        random_line_index_list = random.sample(range(se_count), (dataset_sample_size-pe_count))\n",
    "        with open('{}_singleend_encode_datasets.tsv'.format(experiment_type)) as f:\n",
    "            next(f)\n",
    "            for i, line in enumerate(f):\n",
    "                if i in random_line_index_list:\n",
    "                    out_list_se.append(line)\n",
    "    if out_list_pe:\n",
    "        with open('{}_pairedend_encode_sampled_datasets_for_training.tsv'.format(experiment_type), 'w') as f:\n",
    "            for line in out_list_pe:\n",
    "                f.write(line)\n",
    "    if out_list_se:\n",
    "        with open('{}_singleend_encode_sampled_datasets_for_training.tsv'.format(experiment_type), 'w') as f:\n",
    "            for line in out_list_se:\n",
    "                f.write(line)"
   ]
  }
 ],
 "metadata": {
  "kernelspec": {
   "display_name": "Python 3",
   "language": "python",
   "name": "python3"
  },
  "language_info": {
   "codemirror_mode": {
    "name": "ipython",
    "version": 3
   },
   "file_extension": ".py",
   "mimetype": "text/x-python",
   "name": "python",
   "nbconvert_exporter": "python",
   "pygments_lexer": "ipython3",
   "version": "3.5.3"
  }
 },
 "nbformat": 4,
 "nbformat_minor": 4
}
