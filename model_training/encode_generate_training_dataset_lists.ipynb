{
 "cells": [
  {
   "cell_type": "markdown",
   "metadata": {},
   "source": [
    "## Script used to extract dataset information from ENCODE for ChIP, ATAC, and DNase-seq"
   ]
  },
  {
   "cell_type": "markdown",
   "metadata": {},
   "source": [
    "#### General structure of ENCODE search filtering:\n",
    "1. Search ENCODE for list of experiments meeting criteria\n",
    "2. Extract experiment metadata and filter for presence of controls (ChIP only)\n",
    "3. Iterate through files of experiment, filter, and categorize into paired-end or single-end sequenced\n",
    "4. Write files"
   ]
  },
  {
   "cell_type": "code",
   "execution_count": 1,
   "metadata": {},
   "outputs": [],
   "source": [
    "import requests\n",
    "import json\n",
    "from time import sleep\n",
    "\n",
    "headers = {'accept': 'application/json'}"
   ]
  },
  {
   "cell_type": "code",
   "execution_count": 2,
   "metadata": {},
   "outputs": [],
   "source": [
    "# Simple filtering function that works by concatenating filter terms and values to ENCODE's URL\n",
    "# Can pass a dictionary, or works with kwargs - added support for kwargs for some filters with periods in their names\n",
    "\n",
    "def apply_filters_to_encode_search_url(encode_url, **kwargs):\n",
    "    for key, value in kwargs.items():\n",
    "        if key == 'biosample':\n",
    "            key = 'biosample_ontology.term_name'\n",
    "        if key == 'audit':\n",
    "            key = 'audit.WARNING.category'\n",
    "        if key == 'target':\n",
    "            key = 'target.label'\n",
    "        if key == 'target_class':\n",
    "            key = 'target.investigated_as'\n",
    "        if value.startswith('!'):\n",
    "            encode_url = encode_url+'&{}!={}'.format(key, value[1:])\n",
    "        else:\n",
    "            encode_url = encode_url+'&{}={}'.format(key, value)\n",
    "    return encode_url"
   ]
  },
  {
   "cell_type": "markdown",
   "metadata": {},
   "source": [
    "### ChIP functions"
   ]
  },
  {
   "cell_type": "code",
   "execution_count": 3,
   "metadata": {},
   "outputs": [],
   "source": [
    "# Function used for finding ENCODE experiments that have a control track and a target (used for ChIP)\n",
    "# The experiment accession number, control accession number, target, and biosample info are extracted from search results\n",
    "# All provided information on biosample is compressed into a continuous string without spaces\n",
    "\n",
    "def make_experiment_accession_control_list(experiment_search_results_dict):\n",
    "    experiment_accession_list = []\n",
    "    for experiment_dict in experiment_search_results_dict:\n",
    "        if experiment_dict['possible_controls']:\n",
    "            attributes_dict = {}\n",
    "            control_accession_path = experiment_dict['possible_controls'][0]\n",
    "            control_accession = control_accession_path[1:-1].split('/')[1]\n",
    "            target_name_path = experiment_dict['target']\n",
    "            target_name = target_name_path[1:-1].split('/')[1]\n",
    "            biosample_string = (experiment_dict['biosample_summary'])\n",
    "            alnum_biosample_string = ''.join(x for x in biosample_string if x.isalnum()).replace('μ', 'mc').replace('β', 'beta').replace('α', 'alpha').replace('γ', 'gamma')\n",
    "            attributes_dict['experiment_accession'] = experiment_dict['accession']\n",
    "            attributes_dict['control_accession'] = control_accession\n",
    "            attributes_dict['target'] = target_name\n",
    "            attributes_dict['biosample'] = alnum_biosample_string\n",
    "            experiment_accession_list.append([experiment_dict['accession'], attributes_dict])\n",
    "\n",
    "    return experiment_accession_list"
   ]
  },
  {
   "cell_type": "code",
   "execution_count": 4,
   "metadata": {},
   "outputs": [],
   "source": [
    "# Loops through list of samples in an experiment, and extracts bam file accession numbers\n",
    "# Separates paired and single-end experiments and returns as two separate lists of bam file accession numbers\n",
    "# Info on paired vs single end reads is in notes/qc/qc/ from the @graph dict from ENCODE's file search content; if this information was missing, the sample was disregarded\n",
    "# Filters applied: status=released; genome=hg38; and must have metadata regarding single/paired-end sequencing\n",
    "# pe_bam_list contains only the accession number of the bam; se_bam_list also includes the estimated fragment length neccessary for downstream processing\n",
    "\n",
    "def extract_samples_from_experiment_dna_binding(experiment_accession_num):\n",
    "    experiment_files_search_url = 'https://www.encodeproject.org/search/?type=File&dataset=/experiments/{}/&format=json&frame=object&limit=all'.format(experiment_accession_num)\n",
    "    filtered_experiment_files_search_url = apply_filters_to_encode_search_url(experiment_files_search_url, status='released', assembly='GRCh38', output_type='alignments')\n",
    "    response = requests.get(filtered_experiment_files_search_url, headers=headers)\n",
    "    sleep(1)\n",
    "    experiment_files_search_results = response.json()\n",
    "    pe_bam_list = []\n",
    "    se_bam_list = []\n",
    "    for file_data_dict in experiment_files_search_results['@graph']:\n",
    "        if ('file_type' and 'no_file_available' and 'notes') in file_data_dict:\n",
    "            if (file_data_dict['file_type']=='bam') and (file_data_dict['no_file_available']==False):\n",
    "                notes_dict = json.loads(file_data_dict['notes'])\n",
    "                if 'qc' in notes_dict:\n",
    "                    if ('qc' and 'xcor_qc') in notes_dict['qc']:\n",
    "                        if 'properly_paired' in notes_dict['qc']['qc']:\n",
    "                            if notes_dict['qc']['qc']['properly_paired'][0]>0:\n",
    "                                pe_bam_list.append(file_data_dict['accession'])\n",
    "                            else:\n",
    "                                if 'estFragLen' in notes_dict['qc']['xcor_qc']:\n",
    "                                    if int(notes_dict['qc']['xcor_qc']['estFragLen'])>0:\n",
    "                                        se_bam_list.append([file_data_dict['accession'], notes_dict['qc']['xcor_qc']['estFragLen']])\n",
    "    return pe_bam_list, se_bam_list"
   ]
  },
  {
   "cell_type": "code",
   "execution_count": 5,
   "metadata": {},
   "outputs": [],
   "source": [
    "# Loops through list of experiments (generated from make_experiment_accession_control_list) and extracts bam files from individual samples\n",
    "# Separates paired and single-end experiments using extract_samples_from_experiment_dna_binding function\n",
    "# pe_bam_list_total contains only the accession number of the bam and its control; se_bam_list_total also includes the estimated fragment length for experiment and control bams\n",
    "\n",
    "def generate_bam_file_lists_dna_binding(experiment_accession_list):\n",
    "    pe_bam_list_total = []\n",
    "    se_bam_list_total = []\n",
    "    for experiment_accession_num, experiment_attributes_dict in experiment_accession_list:\n",
    "        pe_bam_list, se_bam_list = extract_samples_from_experiment_dna_binding(experiment_accession_num)\n",
    "        pe_bam_list_control, se_bam_list_control = extract_samples_from_experiment_dna_binding(experiment_attributes_dict['control_accession'])\n",
    "        if pe_bam_list and pe_bam_list_control:\n",
    "            for bam_accession in pe_bam_list:\n",
    "                bam_attributes_dict = {}\n",
    "                bam_attributes_dict['bam_accession'] = bam_accession\n",
    "                bam_attributes_dict['bam_accession_control'] = pe_bam_list_control[0]\n",
    "                pe_bam_list_total.append([bam_accession, bam_attributes_dict, experiment_attributes_dict])\n",
    "        elif se_bam_list and se_bam_list_control:\n",
    "            for bam_accession, frag_len in se_bam_list:\n",
    "                bam_attributes_dict = {}\n",
    "                bam_attributes_dict['bam_accession'] = bam_accession\n",
    "                bam_attributes_dict['fragment_length'] = frag_len\n",
    "                bam_attributes_dict['bam_accession_control'] = se_bam_list_control[0][0]\n",
    "                bam_attributes_dict['fragment_length_control'] = se_bam_list_control[0][1]\n",
    "                se_bam_list_total.append([bam_accession, bam_attributes_dict, experiment_attributes_dict])\n",
    "    return pe_bam_list_total, se_bam_list_total"
   ]
  },
  {
   "cell_type": "markdown",
   "metadata": {},
   "source": [
    "### Open chromatin functions"
   ]
  },
  {
   "cell_type": "code",
   "execution_count": 6,
   "metadata": {},
   "outputs": [],
   "source": [
    "# Function used for finding ENCODE experiments (used for open chromatin)\n",
    "# The experiment accession number and biosample info are extracted from search results\n",
    "# All provided information on biosample is compressed into a continuous string without spaces\n",
    "\n",
    "def make_experiment_accession_list(experiment_search_results_dict):\n",
    "    experiment_accession_list = []\n",
    "    for experiment_dict in experiment_search_results_dict:\n",
    "        attributes_dict = {}\n",
    "        biosample_string = (experiment_dict['biosample_summary'])\n",
    "        alnum_biosample_string = ''.join(x for x in biosample_string if x.isalnum()).replace('μ', 'mc').replace('β', 'beta').replace('α', 'alpha').replace('γ', 'gamma')\n",
    "        attributes_dict['experiment_accession'] = experiment_dict['accession']\n",
    "        attributes_dict['biosample'] = alnum_biosample_string\n",
    "        experiment_accession_list.append([experiment_dict['accession'], attributes_dict])\n",
    "    return experiment_accession_list"
   ]
  },
  {
   "cell_type": "code",
   "execution_count": 7,
   "metadata": {},
   "outputs": [],
   "source": [
    "# Loops through list of experiments (generated from make_experiment_accession_list function) and extracts bam files from individual samples\n",
    "# Separates paired and single-end experiments and returns as two separate lists of bam file accession numbers\n",
    "# Filters applied: status=released; genome=hg38; and must have metadata regarding single/paired-end sequencing\n",
    "\n",
    "def extract_samples_from_experiments_generate_bam_file_lists_open_chrom(experiment_accession_list):\n",
    "    bam_accession_qc_list = []\n",
    "    for experiment_accession_num, experiment_attributes_dict in experiment_accession_list:\n",
    "        experiment_files_search_url = 'https://www.encodeproject.org/search/?type=File&dataset=/experiments/{}/&format=json&frame=object&limit=all'.format(experiment_accession_num)\n",
    "        filtered_experiment_files_search_url = apply_filters_to_encode_search_url(experiment_files_search_url, status='released', assembly='GRCh38', output_type='alignments')\n",
    "        response = requests.get(filtered_experiment_files_search_url, headers=headers)\n",
    "        sleep(1)\n",
    "        experiment_files_search_results = response.json()\n",
    "        for file_data_dict in experiment_files_search_results['@graph']:\n",
    "            if ('file_type' and 'no_file_available' and 'quality_metrics') in file_data_dict:\n",
    "                if (file_data_dict['file_type']=='bam') and (file_data_dict['no_file_available']==False):\n",
    "                    bam_accession_qc_list.append([file_data_dict['accession'], file_data_dict['quality_metrics'], experiment_attributes_dict])\n",
    "    pe_bam_list = []\n",
    "    se_bam_list = []\n",
    "    for bam_accession, qc_list, experiment_attributes_dict in bam_accession_qc_list:\n",
    "        for qc_url in qc_list:\n",
    "            if qc_url.startswith('/complexity-xcorr-quality-metrics/'):\n",
    "                bam_qc_url = 'https://www.encodeproject.org{}?format=json'.format(qc_url)\n",
    "                response = requests.get(bam_qc_url)\n",
    "                sleep(1)\n",
    "                bam_qc = response.json()\n",
    "                if 'paired-end' in bam_qc:\n",
    "                    if bam_qc['paired-end']==True:\n",
    "                        pe_bam_list.append([bam_accession, experiment_attributes_dict])\n",
    "                    elif bam_qc['paired-end']==False:\n",
    "                        if 'read length' in bam_qc:\n",
    "                            if int(bam_qc['read length'])>0:\n",
    "                                se_bam_list.append([bam_accession, bam_qc['read length'], experiment_attributes_dict])\n",
    "    return pe_bam_list, se_bam_list"
   ]
  },
  {
   "cell_type": "markdown",
   "metadata": {},
   "source": [
    "### Main loop"
   ]
  },
  {
   "cell_type": "code",
   "execution_count": 8,
   "metadata": {},
   "outputs": [],
   "source": [
    "# assay_slims is not important for filtering per se but it is important for logic later in the script; \n",
    "\n",
    "experiment_filters_dict = {\n",
    "    'ATAC':{'assay_slims':'DNA+accessibility', 'assay_title':'ATAC-seq', 'assembly':'GRCh38', 'status':'released'},\n",
    "    'DNase':{'assay_slims':'DNA+accessibility', 'assay_title':'DNase-seq', 'assembly':'GRCh38', 'status':'released'},\n",
    "    'H3K27ac':{'assay_slims':'DNA+binding', 'assay_title':'Histone+ChIP-seq', 'target':'H3K27ac', 'assembly':'GRCh38', 'status':'released'},\n",
    "    'H3K4me3':{'assay_slims':'DNA+binding','assay_title':'Histone+ChIP-seq', 'target':'H3K4me3', 'assembly':'GRCh38', 'status':'released'},\n",
    "    'TF':{'assay_slims':'DNA+binding', 'assay_title':'TF+ChIP-seq', 'target_class':'transcription+factor', 'assembly':'GRCh38', 'status':'released'}\n",
    "}"
   ]
  },
  {
   "cell_type": "code",
   "execution_count": 9,
   "metadata": {},
   "outputs": [],
   "source": [
    "# it is assumed that assay_slims == DNA+binding needs a control and DNA+accessibility does not\n",
    "# experiment_search_results is a dictionary of all experiments meeting filtering criteria; experiments may contain multiple samples\n",
    "\n",
    "experiment_search_url = 'https://www.encodeproject.org/search/?type=Experiment&frame=object&limit=all&format=json'\n",
    "for experiment_type in experiment_filters_dict:\n",
    "    filtered_experiment_search_url = apply_filters_to_encode_search_url(experiment_search_url, **experiment_filters_dict[experiment_type])\n",
    "    response = requests.get(filtered_experiment_search_url, headers=headers)\n",
    "    sleep(1)\n",
    "    experiment_search_results = response.json()\n",
    "    \n",
    "    if experiment_filters_dict[experiment_type]['assay_slims']=='DNA+binding':\n",
    "        experiment_accession_list = make_experiment_accession_control_list(experiment_search_results['@graph'])\n",
    "        pe_bam_list, se_bam_list = generate_bam_file_lists_dna_binding(experiment_accession_list)\n",
    "        with open('{}_pairedend_encode_datasets.tsv'.format(experiment_type), 'w') as f:\n",
    "            f.write('bam_accession\\tbam_accession_control\\ttarget\\tbiosample\\texperiment_accession\\n')\n",
    "            for sample_accession, sample_data_dict, experiment_data_dict in pe_bam_list:\n",
    "                f.write('{}\\t{}\\t{}\\t{}\\t{}\\n'.format(\n",
    "                    sample_data_dict['bam_accession'], sample_data_dict['bam_accession_control'], \n",
    "                    experiment_data_dict['target'], experiment_data_dict['biosample'], experiment_data_dict['experiment_accession']))\n",
    "        with open('{}_singleend_encode_datasets.tsv'.format(experiment_type), 'w') as f:\n",
    "            f.write('bam_accession\\tfragment_length\\tbam_accession_control\\tfragment_length_control\\ttarget\\tbiosample\\texperiment_accession\\n')\n",
    "            for sample_accession, sample_data_dict, experiment_data_dict in se_bam_list:\n",
    "                f.write('{}\\t{}\\t{}\\t{}\\t{}\\t{}\\t{}\\n'.format(\n",
    "                    sample_data_dict['bam_accession'], sample_data_dict['fragment_length'], \n",
    "                    sample_data_dict['bam_accession_control'], sample_data_dict['fragment_length_control'], \n",
    "                    experiment_data_dict['target'], experiment_data_dict['biosample'], experiment_data_dict['experiment_accession']))            \n",
    "    else:\n",
    "        experiment_accession_list = make_experiment_accession_list(experiment_search_results['@graph'])\n",
    "        pe_bam_list, se_bam_list = extract_samples_from_experiments_generate_bam_file_lists_open_chrom(experiment_accession_list)\n",
    "        with open('{}_pairedend_encode_datasets.tsv'.format(experiment_type), 'w') as f:\n",
    "            f.write('bam_accession\\tbiosample\\texperiment_accession\\n')\n",
    "            for sample_accession, experiment_data_dict in pe_bam_list:\n",
    "                f.write('{}\\t{}\\t{}\\n'.format(\n",
    "                    sample_accession, experiment_data_dict['biosample'], experiment_data_dict['experiment_accession']))\n",
    "        with open('{}_singleend_encode_datasets.tsv'.format(experiment_type), 'w') as f:\n",
    "            f.write('bam_accession\\tfragment_length\\tbiosample\\texperiment_accession\\n')\n",
    "            for sample_accession, sample_fragment_length, experiment_data_dict in se_bam_list:\n",
    "                f.write('{}\\t{}\\t{}\\t{}\\n'.format(\n",
    "                    sample_accession, sample_fragment_length,\n",
    "                    experiment_data_dict['biosample'], experiment_data_dict['experiment_accession']))            "
   ]
  }
 ],
 "metadata": {
  "kernelspec": {
   "display_name": "Python 3",
   "language": "python",
   "name": "python3"
  },
  "language_info": {
   "codemirror_mode": {
    "name": "ipython",
    "version": 3
   },
   "file_extension": ".py",
   "mimetype": "text/x-python",
   "name": "python",
   "nbconvert_exporter": "python",
   "pygments_lexer": "ipython3",
   "version": "3.5.3"
  }
 },
 "nbformat": 4,
 "nbformat_minor": 4
}
